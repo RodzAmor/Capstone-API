{
 "cells": [
  {
   "cell_type": "code",
   "execution_count": 2,
   "metadata": {},
   "outputs": [
    {
     "ename": "NameError",
     "evalue": "name 'app' is not defined",
     "output_type": "error",
     "traceback": [
      "\u001b[0;31m---------------------------------------------------------------------------\u001b[0m",
      "\u001b[0;31mNameError\u001b[0m                                 Traceback (most recent call last)",
      "Cell \u001b[0;32mIn[2], line 1\u001b[0m\n\u001b[0;32m----> 1\u001b[0m \u001b[38;5;129m@app\u001b[39m\u001b[38;5;241m.\u001b[39mroute(\u001b[38;5;124m'\u001b[39m\u001b[38;5;124m/api/graph-data\u001b[39m\u001b[38;5;124m'\u001b[39m)\n\u001b[1;32m      2\u001b[0m \u001b[38;5;28;01mdef\u001b[39;00m \u001b[38;5;21mget_graph_data\u001b[39m():\n\u001b[1;32m      3\u001b[0m     \u001b[38;5;66;03m# Load the CSV file\u001b[39;00m\n\u001b[1;32m      4\u001b[0m     events_data \u001b[38;5;241m=\u001b[39m pd\u001b[38;5;241m.\u001b[39mread_csv(\u001b[38;5;124m\"\u001b[39m\u001b[38;5;124mevents.csv\u001b[39m\u001b[38;5;124m\"\u001b[39m)\n\u001b[1;32m      5\u001b[0m     events_data[\u001b[38;5;124m'\u001b[39m\u001b[38;5;124mParsed_Response\u001b[39m\u001b[38;5;124m'\u001b[39m] \u001b[38;5;241m=\u001b[39m events_data[\u001b[38;5;124m'\u001b[39m\u001b[38;5;124mResponse\u001b[39m\u001b[38;5;124m'\u001b[39m]\u001b[38;5;241m.\u001b[39mapply(ast\u001b[38;5;241m.\u001b[39mliteral_eval)\n",
      "\u001b[0;31mNameError\u001b[0m: name 'app' is not defined"
     ]
    }
   ],
   "source": [
    "import yfinance as yf\n",
    "import yfinance as yf\n",
    "\n",
    "stock = yf.Ticker(\"ETR\")\n",
    "    \n",
    "year = request.args.get('year', None)\n",
    "if not year:\n",
    "    raise jsonify({'error': 'Year parameter is required'}), 400\n",
    "\n",
    "start_date = f\"{year}-01-01\"\n",
    "end_date = f\"{year}-12-31\"\n",
    "\n",
    "hist = stock.history(start=start_date, end=end_date)\n",
    "info = stock.info\n",
    "\n",
    "data = [{\n",
    "    'date': index.strftime('%Y-%m-%d'),\n",
    "    'close': row['Close']\n",
    "} for index, row in hist.iterrows()]\n",
    "\n",
    "print(info.get('totalRevenue'))\n",
    "\n",
    "# Include detailed company information\n",
    "additional_info = {\n",
    "    'fullName': info.get('longName'),\n",
    "    'revenue': info.get('totalRevenue'),\n",
    "    'ebitda': info.get('ebitda'),\n",
    "    'employees': info.get('fullTimeEmployees'),\n",
    "    'headquarters': f\"{info.get('city')}, {info.get('state')}, {info.get('country')}\",\n",
    "    'website': info.get('website'),\n",
    "    'description': info.get('longBusinessSummary')\n",
    "}\n",
    "\n",
    "return jsonify({'historicalData': data, 'companyInfo': additional_info})"
   ]
  }
 ],
 "metadata": {
  "kernelspec": {
   "display_name": "ML",
   "language": "python",
   "name": "python3"
  },
  "language_info": {
   "codemirror_mode": {
    "name": "ipython",
    "version": 3
   },
   "file_extension": ".py",
   "mimetype": "text/x-python",
   "name": "python",
   "nbconvert_exporter": "python",
   "pygments_lexer": "ipython3",
   "version": "3.9.18"
  }
 },
 "nbformat": 4,
 "nbformat_minor": 2
}
